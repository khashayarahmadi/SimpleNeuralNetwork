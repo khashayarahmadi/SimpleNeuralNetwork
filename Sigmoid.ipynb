{
 "cells": [
  {
   "cell_type": "code",
   "execution_count": 2,
   "metadata": {},
   "outputs": [],
   "source": [
    "import numpy as np\n",
    "\n",
    "class NeuralNetwork:\n",
    "    def __init__(self, input_size, hidden_size, output_size):\n",
    "        self.weights_input_hidden = np.random.randn(input_size, hidden_size)\n",
    "        self.weights_hidden_output = np.random.randn(hidden_size, output_size)\n",
    "\n",
    "    def sigmoid(self, x):\n",
    "        return 1 / (1 + np.exp(-x))\n",
    "\n",
    "    def forward(self, input_data):\n",
    "        hidden_layer_input = np.dot(input_data, self.weights_input_hidden)\n",
    "        hidden_layer_output = self.sigmoid(hidden_layer_input)\n",
    "        \n",
    "        output_layer_input = np.dot(hidden_layer_output, self.weights_hidden_output)\n",
    "        output = self.sigmoid(output_layer_input)\n",
    "        \n",
    "        return output\n"
   ]
  },
  {
   "cell_type": "code",
   "execution_count": 3,
   "metadata": {},
   "outputs": [
    {
     "name": "stdout",
     "output_type": "stream",
     "text": [
      "Input: [0 0] -> Output: [0.45107259]\n",
      "Input: [0 1] -> Output: [0.44021553]\n",
      "Input: [1 0] -> Output: [0.40971981]\n",
      "Input: [1 1] -> Output: [0.40119851]\n"
     ]
    }
   ],
   "source": [
    "\n",
    "# Example usage\n",
    "input_data = np.array([[0, 0], [0, 1], [1, 0], [1, 1]])\n",
    "nn = NeuralNetwork(input_size=2, hidden_size=3, output_size=1)\n",
    "\n",
    "for i in range(len(input_data)):\n",
    "    output = nn.forward(input_data[i])\n",
    "    print(f\"Input: {input_data[i]} -> Output: {output}\")"
   ]
  }
 ],
 "metadata": {
  "kernelspec": {
   "display_name": "Python 3",
   "language": "python",
   "name": "python3"
  },
  "language_info": {
   "codemirror_mode": {
    "name": "ipython",
    "version": 3
   },
   "file_extension": ".py",
   "mimetype": "text/x-python",
   "name": "python",
   "nbconvert_exporter": "python",
   "pygments_lexer": "ipython3",
   "version": "3.11.4"
  }
 },
 "nbformat": 4,
 "nbformat_minor": 2
}
